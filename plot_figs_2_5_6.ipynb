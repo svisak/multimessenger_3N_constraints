{
 "cells": [
  {
   "cell_type": "markdown",
   "id": "54a1a2b8-a4e1-477e-81eb-ca39a761e805",
   "metadata": {},
   "source": [
    "## Notebook for Fig. 3 of the paper"
   ]
  },
  {
   "cell_type": "markdown",
   "id": "f800cb39-90de-488b-bad6-2caedc2f78d3",
   "metadata": {},
   "source": [
    "Sets 0, 1, and 2 correspond to the 2-, 5-, and 7-parameter models discussed in the paper. We begin by initializing the dictionaries \"up,\" \"middle,\" and \"down\" to store the 5th, 50th, and 95th percentiles, respectively, of the various distributions used in the analysis."
   ]
  },
  {
   "cell_type": "code",
   "execution_count": 1,
   "id": "e85994b4-e62a-4f51-b82a-4d1677dc64a4",
   "metadata": {},
   "outputs": [],
   "source": [
    "import numpy as np\n",
    "import corner\n",
    "import matplotlib.pyplot as plt\n",
    "import pickle\n",
    "import scipy \n",
    "from tqdm import tqdm\n",
    "import os\n",
    "import emcee\n",
    "\n",
    "up = {}\n",
    "middle = {}\n",
    "down = {}\n",
    "\n",
    "sets=['s0','s1','s2']"
   ]
  },
  {
   "cell_type": "markdown",
   "id": "b2fcc18f-8d8c-4a66-adbf-c88ec534b552",
   "metadata": {},
   "source": [
    "At N=1 (where N is the number of events), our hierarchical inference framework requires loading the result of each individual event and computing their average. The MCMC samples that are meant to be placed in the \"Injection_results\" folder can be downloaded from the Zenodo repository."
   ]
  },
  {
   "cell_type": "code",
   "execution_count": 2,
   "id": "b5c33bb1-e430-4237-83ea-65b3f74f3bd6",
   "metadata": {
    "tags": []
   },
   "outputs": [],
   "source": [
    "### Point at N = 1\n",
    "\n",
    "for case in sets:\n",
    "    \n",
    "    temp_up = []\n",
    "    temp_middle = []\n",
    "    temp_down = []\n",
    "\n",
    "    k = 0\n",
    "    \n",
    "    for event in range(20):\n",
    "\n",
    "        k = k + 1    \n",
    "        \n",
    "        temp = np.loadtxt('Injection_results/'+case+'_'+str(event)+'.dat')[:,3]\n",
    "\n",
    "        temp_up.append( np.percentile(temp,95)) \n",
    "        temp_middle.append( np.percentile(temp,50)) \n",
    "        temp_down.append( np.percentile(temp,5)) \n",
    "\n",
    "    up['1_'+case] = np.mean(temp_up) \n",
    "    middle['1_'+case] =  np.mean(temp_middle) \n",
    "    down['1_'+case] =  np.mean(temp_down) "
   ]
  },
  {
   "cell_type": "markdown",
   "id": "acd70e78-6201-4002-9560-0c1352ef7b80",
   "metadata": {},
   "source": [
    "At N=20, we perform a full hierarchical inference with 20 events, and no averaging is required."
   ]
  },
  {
   "cell_type": "code",
   "execution_count": 3,
   "id": "a311eda6-e530-448d-9f8c-19b6c5313bb3",
   "metadata": {
    "tags": []
   },
   "outputs": [],
   "source": [
    "### Point at N = 20\n",
    "\n",
    "for case in sets:\n",
    "    \n",
    "    temp = np.loadtxt('Injection_results/'+case+'_hierarchical.dat')[:,1]\n",
    "    \n",
    "    up['20_'+case] = np.percentile( temp,95 )\n",
    "    middle['20_'+case] = np.percentile( temp,50 )\n",
    "    down['20_'+case] = np.percentile( temp,5 )\n"
   ]
  },
  {
   "cell_type": "markdown",
   "id": "2c962265-ba6a-4716-81e0-64e9240020f6",
   "metadata": {},
   "source": [
    "The following cells correspond to N=10, 15, 5, and 3, respectively. For each value of N, we perform 100 hierarchical inferences, each involving N events randomly selected from the total pool of 20. The loop \"for file in files\" loads the results of these 100 analyses and averages over them."
   ]
  },
  {
   "cell_type": "code",
   "execution_count": 4,
   "id": "294ca8cc-0273-48bf-8ce7-2b51518a8461",
   "metadata": {
    "tags": []
   },
   "outputs": [],
   "source": [
    "### Point at N = 10\n",
    "\n",
    "files = os.listdir('Injection_results/hierarchical/')\n",
    "\n",
    "for case in sets:\n",
    "\n",
    "    temp_up = []\n",
    "    temp_middle = []\n",
    "    temp_down = []\n",
    "\n",
    "    k = 0\n",
    "    \n",
    "    for file in files:\n",
    "        if not file[:5] == case+'_10':\n",
    "            continue\n",
    "\n",
    "        k = k + 1    \n",
    "        \n",
    "        temp = np.loadtxt('Injection_results/hierarchical/'+file)[:,1]\n",
    "\n",
    "        temp_up.append( np.percentile(temp,95)) \n",
    "        temp_middle.append( np.percentile(temp,50)) \n",
    "        temp_down.append( np.percentile(temp,5)) \n",
    "\n",
    "    up['10_'+case] = np.mean(temp_up) \n",
    "    middle['10_'+case] =  np.mean(temp_middle) \n",
    "    down['10_'+case] =  np.mean(temp_down) "
   ]
  },
  {
   "cell_type": "code",
   "execution_count": 5,
   "id": "2e94da5c-a288-4384-aaa0-d63a0b91370d",
   "metadata": {
    "tags": []
   },
   "outputs": [],
   "source": [
    "### Point at N = 15\n",
    "\n",
    "for case in sets:\n",
    "\n",
    "    temp_up = []\n",
    "    temp_middle = []\n",
    "    temp_down = []\n",
    "\n",
    "    k = 0\n",
    "    \n",
    "    for file in files:\n",
    "        if not file[:5] == case+'_15':\n",
    "            continue\n",
    "\n",
    "        k = k + 1    \n",
    "        \n",
    "        temp = np.loadtxt('Injection_results/hierarchical/'+file)[:,1]\n",
    "\n",
    "        temp_up.append( np.percentile(temp,95)) \n",
    "        temp_middle.append( np.percentile(temp,50)) \n",
    "        temp_down.append( np.percentile(temp,5)) \n",
    "\n",
    "    up['15_'+case] = np.mean(temp_up) \n",
    "    middle['15_'+case] =  np.mean(temp_middle) \n",
    "    down['15_'+case] =  np.mean(temp_down) "
   ]
  },
  {
   "cell_type": "code",
   "execution_count": 6,
   "id": "9c1d8a19-41f4-4982-a1d7-8e1732371224",
   "metadata": {
    "tags": []
   },
   "outputs": [],
   "source": [
    "### Point at N = 5\n",
    "\n",
    "for case in sets:\n",
    "\n",
    "    temp_up = []\n",
    "    temp_middle = []\n",
    "    temp_down = []\n",
    "    \n",
    "    k = 0\n",
    "\n",
    "    for file in files:\n",
    "        if not file[:5] == case+'_5_':\n",
    "            continue\n",
    "\n",
    "        k = k + 1   \n",
    "        \n",
    "        temp = np.loadtxt('Injection_results/hierarchical/'+file)[:,1]\n",
    "\n",
    "        temp_up.append( np.percentile(temp,95)) \n",
    "        temp_middle.append( np.percentile(temp,50)) \n",
    "        temp_down.append( np.percentile(temp,5)) \n",
    "\n",
    "    up['5_'+case] = np.mean(temp_up) \n",
    "    middle['5_'+case] =  np.mean(temp_middle) \n",
    "    down['5_'+case] =  np.mean(temp_down) "
   ]
  },
  {
   "cell_type": "code",
   "execution_count": 7,
   "id": "64f71e11-8dfa-4523-bca0-7145288508ba",
   "metadata": {
    "tags": []
   },
   "outputs": [],
   "source": [
    "### Point at N = 3\n",
    "\n",
    "for case in sets:\n",
    "\n",
    "    temp_up = []\n",
    "    temp_middle = []\n",
    "    temp_down = []\n",
    "    \n",
    "    k = 0\n",
    "\n",
    "    for file in files:\n",
    "        if not file[:5] == case+'_3_':\n",
    "            continue\n",
    "\n",
    "        k = k + 1   \n",
    "        \n",
    "        temp = np.loadtxt('Injection_results/hierarchical/'+file)[:,1]\n",
    "\n",
    "        temp_up.append( np.percentile(temp,95)) \n",
    "        temp_middle.append( np.percentile(temp,50)) \n",
    "        temp_down.append( np.percentile(temp,5)) \n",
    "\n",
    "    up['3_'+case] = np.mean(temp_up) \n",
    "    middle['3_'+case] =  np.mean(temp_middle) \n",
    "    down['3_'+case] =  np.mean(temp_down) "
   ]
  },
  {
   "cell_type": "markdown",
   "id": "474ffabe-4d90-4de2-89a4-ea6aedc1f3a2",
   "metadata": {},
   "source": [
    "The MCMC samples above were obtained using the Fisher matrix approximation. We compare these with results from a full parameter estimation analysis performed under the zero-noise approximation."
   ]
  },
  {
   "cell_type": "code",
   "execution_count": 8,
   "id": "81fb14ba-8471-453a-b3d2-777bcb871627",
   "metadata": {},
   "outputs": [],
   "source": [
    "full_PE_samples = []\n",
    "\n",
    "for run_number in range(1,11):\n",
    "\n",
    "    reader_PE = emcee.backends.HDFBackend('Full_PE_results/sampler_'+str(run_number)+'.hdf')\n",
    "\n",
    "    samples_PE = reader_PE.get_chain(discard=1500, flat=True,thin=50)\n",
    "    \n",
    "    full_PE_samples.append(samples_PE)\n",
    "\n",
    "full_PE_samples = np.array(full_PE_samples)[:,:,1]\n",
    "\n",
    "c3_full_PE = full_PE_samples.flatten()"
   ]
  },
  {
   "cell_type": "markdown",
   "id": "e78c5f50-6e80-4ba9-8423-b51c9989a17a",
   "metadata": {},
   "source": [
    "The following cell creates the final plot"
   ]
  },
  {
   "cell_type": "code",
   "execution_count": 9,
   "id": "9f4884f6-ea0f-4596-8a41-a34a6fa36721",
   "metadata": {
    "tags": []
   },
   "outputs": [
    {
     "data": {
      "image/png": "[encoded data removed]",
      "text/plain": [
       "<Figure size 640x480 with 1 Axes>"
      ]
     },
     "metadata": {},
     "output_type": "display_data"
    }
   ],
   "source": [
    "from matplotlib import cm, colors\n",
    "import matplotlib\n",
    "plt.rcParams['text.usetex'] = True\n",
    "from matplotlib.ticker import (MultipleLocator, AutoMinorLocator)\n",
    "\n",
    "fontsize = 18\n",
    "\n",
    "fig, ax = plt.subplots()\n",
    "\n",
    "##\n",
    "\n",
    "case = 's0'\n",
    "\n",
    "for N in [1,3,5,10,15,20]:\n",
    "\n",
    "    yerr_low = middle[str(N)+'_'+case] - down[str(N)+'_'+case]\n",
    "\n",
    "    yerr_up = up[str(N)+'_'+case] - middle[str(N)+'_'+case]\n",
    "\n",
    "    ax.errorbar(N,y=middle[str(N)+'_'+case],yerr=np.array([yerr_low,yerr_up]).reshape(2,1) ,fmt='o', markersize=8, capsize=5,alpha=1,color='C0',zorder=50)\n",
    "\n",
    "    \n",
    "case = 's2'\n",
    "   \n",
    "for N in [1,3,5,10,15,20]:\n",
    "\n",
    "    yerr_low = middle[str(N)+'_'+case] - down[str(N)+'_'+case]\n",
    "\n",
    "    yerr_up = up[str(N)+'_'+case] - middle[str(N)+'_'+case]\n",
    "\n",
    "    ax.errorbar(N,y=middle[str(N)+'_'+case],yerr=np.array([yerr_low,yerr_up]).reshape(2,1) ,fmt='o', markersize=8, capsize=5,alpha=1,color='C2',zorder=100)\n",
    "\n",
    "case = 's0'\n",
    "up_plot = []\n",
    "down_plot = []\n",
    "\n",
    "for N in [1,3,5,10,15,20]:\n",
    "    up_plot.append( up[str(N)+'_'+case] )\n",
    "    down_plot.append( down[str(N)+'_'+case] )\n",
    "\n",
    "ax.fill_between( [1,3,5,10,15,20],up_plot,down_plot,alpha = 0.2,color='C0',label=r'$\\textrm{2-parameter model}$')\n",
    "\n",
    "\n",
    "case = 's1'\n",
    "up_plot = []\n",
    "down_plot = []\n",
    "\n",
    "for N in [1,3,5,10,15,20]:\n",
    "    up_plot.append( up[str(N)+'_'+case] )\n",
    "    down_plot.append( down[str(N)+'_'+case] )\n",
    "\n",
    "ax.plot( [1,3,5,10,15,20],up_plot,color='C1',alpha=1,linestyle='dashed',label=r'$\\textrm{5-parameter model}$')\n",
    "\n",
    "ax.plot( [1,3,5,10,15,20],down_plot,color='C1',alpha=1,linestyle='dashed')\n",
    "\n",
    "\n",
    "case = 's2'\n",
    "up_plot = []\n",
    "down_plot = []\n",
    "\n",
    "for N in [1,3,5,10,15,20]:\n",
    "    up_plot.append( up[str(N)+'_'+case] )\n",
    "    down_plot.append( down[str(N)+'_'+case] )\n",
    "\n",
    "ax.fill_between( [1,3,5,10,15,20],up_plot,down_plot,color='C2',alpha = 0.2,label=r'$\\textrm{7-parameter model}$')\n",
    "\n",
    "\n",
    "##\n",
    "\n",
    "ax.errorbar(-4,y=-3.61,yerr=3.25 ,fmt='o', markersize=8, capsize=5,color='maroon')\n",
    "    \n",
    "ax.errorbar(-1.5,y=-2.52,yerr=np.array([3.63,2.21]).reshape(2,1) ,fmt='o', markersize=8, capsize=5,color='C2')\n",
    "\n",
    "ax.hlines(-3.67540915,xmin=0.5,xmax=21.5,color='black',label=r'$\\textrm{Injected value}$')\n",
    "\n",
    "ax.set_ylim(top = 0.3,bottom = -3.61*2)\n",
    "\n",
    "ax.yaxis.set_minor_locator(AutoMinorLocator())\n",
    "ax.tick_params(axis='y',which='both',direction='in',labelsize=fontsize-2,left=True,right=True)\n",
    "\n",
    "\n",
    "ax.set_xlabel(r'$\\ \\ \\ \\textrm{Number of events}$',fontsize=fontsize)\n",
    "ax.set_ylabel(r'$c_3 \\ \\textrm{[GeV}^{-1}\\textrm{]}$',fontsize=fontsize)\n",
    "\n",
    "ax.set_xticks([-4,-1.5,1,2,3,4,5,6,7,8,9,10,11,12,13,14,15,16,17,18,19,20])\n",
    "\n",
    "ax.set_xticklabels([r'$\\textrm{Prior}$',r'$\\textrm{Astro} \\\\ \\textrm{(present)}$','$1$',\n",
    "                    '','','','$5$',\n",
    "                    '','','','','$10$',\n",
    "                    '','','','','$15$',\n",
    "                    '','','','','$20$'])\n",
    "\n",
    "ax.tick_params(axis='x',which='major',direction='in',labelsize=fontsize-2,bottom=True,top=True)\n",
    "\n",
    "\n",
    "ticks = ax.get_xticklabels()\n",
    "ticks[0].set_rotation(45)\n",
    "ticks[1].set_rotation(45)\n",
    "\n",
    "ax.xaxis.set_label_coords(0.6, -0.1)\n",
    "\n",
    "ax.set_xlim(right = 22.5)\n",
    "\n",
    "\n",
    "yerr_low_PE = np.percentile(c3_full_PE,50) - np.percentile(c3_full_PE,5)\n",
    "yerr_up_PE  = np.percentile(c3_full_PE,95) - np.percentile(c3_full_PE,50)\n",
    "ax.errorbar(21,y=np.percentile(c3_full_PE,50),yerr=np.array([yerr_low_PE,yerr_up_PE]).reshape(2,1) ,fmt='d', markersize=6, capsize=5,alpha=1,color='C2',zorder=100,\n",
    "           label=r'$\\textrm{Zero-noise injection}$')\n",
    "\n",
    "\n",
    "ax.errorbar(22,y=-3.61,yerr=0.05*1.645 ,fmt='o', markersize=0, capsize=3,color='black',alpha=1,label=r'$\\pi \\textrm{N} \\ \\textrm{scattering}$')\n",
    "\n",
    "ax.legend(fontsize=fontsize-4,ncol=2, columnspacing=0.8, labelspacing=0.3,frameon=False)\n",
    "\n",
    "\n",
    "plt.tight_layout()\n",
    "\n",
    "plt.savefig('figures/convergence_updated2.pdf',bbox_inches='tight')\n"
   ]
  },
  {
   "cell_type": "markdown",
   "id": "04f2319f-bbc9-41ae-ab3f-7f2e5d308302",
   "metadata": {},
   "source": [
    "The last cell below stores the source data for the figure in a txt file"
   ]
  },
  {
   "cell_type": "code",
   "execution_count": 10,
   "id": "e1711138-8c60-44e7-8f65-55aa80ec8619",
   "metadata": {},
   "outputs": [],
   "source": [
    "with open('source_data/fig3.txt', 'w') as f:\n",
    "    f.write(\"# --- Main Plot Data ---\\n\")\n",
    "    f.write(\"N\\tcase\\tmiddle\\tup\\tdown\\n\")\n",
    "    for case in sets:\n",
    "        for N in [1, 3, 5, 10, 15, 20]:\n",
    "            m = middle[str(N)+'_'+case]\n",
    "            u = up[str(N)+'_'+case]\n",
    "            d = down[str(N)+'_'+case]\n",
    "            f.write(f\"{N}\\t{case}\\t{m:.6f}\\t{u:.6f}\\t{d:.6f}\\n\")\n",
    "    \n",
    "    f.write(\"\\n# --- Zero-noise Injection ---\\n\")\n",
    "    f.write(\"percentile_5\\tpercentile_50\\tpercentile_95\\tyerr_low\\tyerr_up\\n\")\n",
    "    p5, p50, p95 = np.percentile(c3_full_PE, [5, 50, 95])\n",
    "    yerr_low_PE = p50 - p5\n",
    "    yerr_up_PE = p95 - p50\n",
    "    f.write(f\"{p5:.6f}\\t{p50:.6f}\\t{p95:.6f}\\t{yerr_low_PE:.6f}\\t{yerr_up_PE:.6f}\\n\")\n",
    "    \n",
    "    f.write(\"\\n# --- PiN Scattering ---\\n\")\n",
    "    f.write(\"y\\tyerr\\n\")\n",
    "    y = -3.61\n",
    "    yerr = 0.05 * 1.645\n",
    "    f.write(f\"{y:.6f}\\t{yerr:.6f}\\n\")\n",
    "    \n",
    "    f.write(\"\\n# --- Prior ---\\n\")\n",
    "    f.write(\"x\\ty\\tyerr\\n\")\n",
    "    prior_x = -4\n",
    "    prior_y = -3.61\n",
    "    prior_yerr = 3.25\n",
    "    f.write(f\"{prior_x:.1f}\\t{prior_y:.6f}\\t{prior_yerr:.6f}\\n\")\n",
    "    \n",
    "    f.write(\"\\n# --- Astro (Present) ---\\n\")\n",
    "    f.write(\"x\\ty\\tyerr_low\\tyerr_up\\n\")\n",
    "    astro_x = -1.5\n",
    "    astro_y = -2.52\n",
    "    astro_yerr_low = 3.63\n",
    "    astro_yerr_up = 2.21\n",
    "    f.write(f\"{astro_x:.1f}\\t{astro_y:.6f}\\t{astro_yerr_low:.6f}\\t{astro_yerr_up:.6f}\\n\")"
   ]
  },
  {
   "cell_type": "code",
   "execution_count": null,
   "id": "fadb851e-4c34-4d31-b0c0-c6364122da7c",
   "metadata": {},
   "outputs": [],
   "source": []
  }
 ],
 "metadata": {
  "kernelspec": {
   "display_name": "Python 3 (ipykernel)",
   "language": "python",
   "name": "python3"
  },
  "language_info": {
   "codemirror_mode": {
    "name": "ipython",
    "version": 3
   },
   "file_extension": ".py",
   "mimetype": "text/x-python",
   "name": "python",
   "nbconvert_exporter": "python",
   "pygments_lexer": "ipython3",
   "version": "3.12.4"
  }
 },
 "nbformat": 4,
 "nbformat_minor": 5
}
